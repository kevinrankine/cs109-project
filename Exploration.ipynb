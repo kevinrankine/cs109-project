{
 "cells": [
  {
   "cell_type": "code",
   "execution_count": 96,
   "metadata": {
    "collapsed": false
   },
   "outputs": [],
   "source": [
    "import pandas as pd\n",
    "import numpy as np\n",
    "\n",
    "df = pd.read_csv('NationalNames.csv')"
   ]
  },
  {
   "cell_type": "code",
   "execution_count": 97,
   "metadata": {
    "collapsed": false
   },
   "outputs": [
    {
     "data": {
      "text/plain": [
       "Id        False\n",
       "Name      False\n",
       "Year      False\n",
       "Gender    False\n",
       "Count     False\n",
       "dtype: bool"
      ]
     },
     "execution_count": 97,
     "metadata": {},
     "output_type": "execute_result"
    }
   ],
   "source": [
    "df.isnull().any()"
   ]
  },
  {
   "cell_type": "code",
   "execution_count": 98,
   "metadata": {
    "collapsed": false
   },
   "outputs": [
    {
     "data": {
      "text/plain": [
       "Name\n",
       "James    5129096\n",
       "Name: Count, dtype: int64"
      ]
     },
     "execution_count": 98,
     "metadata": {},
     "output_type": "execute_result"
    }
   ],
   "source": [
    "df.groupby(['Name'])['Count'].sum().sort_values(ascending=False).head(n=1)"
   ]
  },
  {
   "cell_type": "code",
   "execution_count": 100,
   "metadata": {
    "collapsed": false
   },
   "outputs": [],
   "source": [
    "name_to_ratio = {}\n",
    "\n",
    "for name, row in df.groupby([\"Name\", \"Gender\"], as_index=False).sum().groupby([\"Name\"]):\n",
    "    if len(row) == 2:\n",
    "        female, male = row.iloc[0, :], row.iloc[1, :]\n",
    "        name_to_ratio[female[\"Name\"]] = np.abs(1 - 1. * female['Count'] / male['Count'])\n",
    "\n",
    "names = sorted(name_to_ratio, key=name_to_ratio.get, reverse=False)"
   ]
  },
  {
   "cell_type": "code",
   "execution_count": 103,
   "metadata": {
    "collapsed": false
   },
   "outputs": [
    {
     "data": {
      "text/plain": [
       "['Asil',\n",
       " 'Shondel',\n",
       " 'Maesen',\n",
       " 'Terrice',\n",
       " 'Irin',\n",
       " 'Kanari',\n",
       " 'Shinobu',\n",
       " 'Darley',\n",
       " 'Nathel',\n",
       " 'Verlynn']"
      ]
     },
     "execution_count": 103,
     "metadata": {},
     "output_type": "execute_result"
    }
   ],
   "source": [
    "names[:10]"
   ]
  },
  {
   "cell_type": "code",
   "execution_count": null,
   "metadata": {
    "collapsed": true
   },
   "outputs": [],
   "source": []
  }
 ],
 "metadata": {
  "anaconda-cloud": {},
  "kernelspec": {
   "display_name": "Python [conda root]",
   "language": "python",
   "name": "conda-root-py"
  },
  "language_info": {
   "codemirror_mode": {
    "name": "ipython",
    "version": 2
   },
   "file_extension": ".py",
   "mimetype": "text/x-python",
   "name": "python",
   "nbconvert_exporter": "python",
   "pygments_lexer": "ipython2",
   "version": "2.7.9"
  }
 },
 "nbformat": 4,
 "nbformat_minor": 1
}
